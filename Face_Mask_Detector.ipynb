{
  "nbformat": 4,
  "nbformat_minor": 0,
  "metadata": {
    "colab": {
      "name": "Face Mask Detector.ipynb",
      "provenance": [],
      "collapsed_sections": []
    },
    "kernelspec": {
      "name": "python3",
      "display_name": "Python 3"
    },
    "accelerator": "GPU"
  },
  "cells": [
    {
      "cell_type": "code",
      "metadata": {
        "id": "MnCy5V638gwN",
        "colab_type": "code",
        "colab": {
          "base_uri": "https://localhost:8080/",
          "height": 34
        },
        "outputId": "130fc416-52b1-4737-d6e7-4c325696b1b5"
      },
      "source": [
        "import tensorflow as tf\n",
        "import keras\n",
        "from tensorflow.keras.preprocessing.image import ImageDataGenerator\n",
        "from tensorflow.keras.applications import MobileNetV2\n",
        "from tensorflow.keras.models import Model\n",
        "from tensorflow.keras.optimizers import Adam\n",
        "from tensorflow.keras.applications.mobilenet_v2 import preprocess_input\n",
        "from tensorflow.keras.preprocessing.image import img_to_array\n",
        "from tensorflow.keras.preprocessing.image import load_img\n",
        "from tensorflow.keras.utils import to_categorical\n",
        "from sklearn.preprocessing import LabelBinarizer\n",
        "from sklearn.model_selection import train_test_split\n",
        "from sklearn.metrics import classification_report\n",
        "from imutils import paths\n",
        "import matplotlib.pyplot as plt\n",
        "%matplotlib inline\n",
        "import numpy as np\n",
        "import argparse\n",
        "import os"
      ],
      "execution_count": 1,
      "outputs": [
        {
          "output_type": "stream",
          "text": [
            "Using TensorFlow backend.\n"
          ],
          "name": "stderr"
        }
      ]
    },
    {
      "cell_type": "markdown",
      "metadata": {
        "id": "Fc8y-tFQ8c4M",
        "colab_type": "text"
      },
      "source": [
        "## Mounting GDrive"
      ]
    },
    {
      "cell_type": "code",
      "metadata": {
        "id": "eVGPJmYF8cHy",
        "colab_type": "code",
        "colab": {
          "base_uri": "https://localhost:8080/",
          "height": 54
        },
        "outputId": "1ceea395-85cb-4a82-e83d-56e1ca662ce8"
      },
      "source": [
        "from google.colab import drive\n",
        "drive.mount('/content/drive')"
      ],
      "execution_count": 2,
      "outputs": [
        {
          "output_type": "stream",
          "text": [
            "Drive already mounted at /content/drive; to attempt to forcibly remount, call drive.mount(\"/content/drive\", force_remount=True).\n"
          ],
          "name": "stdout"
        }
      ]
    },
    {
      "cell_type": "markdown",
      "metadata": {
        "id": "phF756mmJGJ5",
        "colab_type": "text"
      },
      "source": [
        "### **IMPORTANT NOTE:**\n",
        "#### If you take a look at Figure you can start to see our training and validation loss start to rapidly divide. When you see training loss falling quickly while validation loss stagnates or even increases, you know you are overfitting.\n",
        "\n",
        "![alt text](https://pyimagesearch.com/wp-content/uploads/2019/06/unfrozen.png)"
      ]
    },
    {
      "cell_type": "markdown",
      "metadata": {
        "id": "9YVnwF9usVzm",
        "colab_type": "text"
      },
      "source": [
        "## What Is **MobileNetV2**?\n",
        "#### MobileNets are small, low-latency, low-power models parameterised to meet the resource constraints of a variety of use cases. According to the research paper, MobileNetV2 improves the state-of-the-art performance of mobile models on multiple tasks and benchmarks as well as across a spectrum of different model sizes.\n",
        "#### MobileNetV2 is optimised for mobile devices. The architecture delivers high accuracy results while keeping the parameters and mathematical operations as low as possible to bring deep neural networks to mobile devices.\n",
        "#### The weights of the pre-trained snippets were learned by the Google team using **ImageNet**.\n",
        "#### NOTE: **Weights in MobileNetV2:** \n",
        "\n",
        "One of the following:\n",
        "*   None (random initialization)\n",
        "*   'imagenet' (pre-training on ImageNet)\n",
        "*   or the path to the weights file to be loaded. Default to imagenet.\n",
        "\n",
        "---\n",
        "#### To accomplish **FACE MASK DETECTOR**, we’ll be fine-tuning the MobileNet V2 architecture, a highly efficient architecture that can be applied to embedded devices with limited computational capacity (ex., Raspberry Pi, Google Coral, NVIDIA Jetson Nano, etc.).\n"
      ]
    },
    {
      "cell_type": "markdown",
      "metadata": {
        "id": "Gn7a_St2wacz",
        "colab_type": "text"
      },
      "source": [
        "\n",
        "\n",
        "---\n",
        "\n",
        "## Parsing a few command line arguments that are required to launch our script from a terminal"
      ]
    },
    {
      "cell_type": "code",
      "metadata": {
        "id": "IW2Sl1cx8-TT",
        "colab_type": "code",
        "colab": {}
      },
      "source": [
        "# ap = argparse.ArgumentParser()\n",
        "# ap.add_argument(\"-d\", \"--dataset\", required=True,\n",
        "# \thelp=\"path to input dataset\")\n",
        "# ap.add_argument(\"-p\", \"--plot\", type=str, default=\"plot.png\",\n",
        "# \thelp=\"path to output loss/accuracy plot\")\n",
        "# ap.add_argument(\"-m\", \"--model\", type=str,\n",
        "# \tdefault=\"mask_detector.model\",\n",
        "# \thelp=\"path to output face mask detector model\")\n",
        "# args = vars(ap.parse_args())"
      ],
      "execution_count": 3,
      "outputs": []
    },
    {
      "cell_type": "markdown",
      "metadata": {
        "id": "yK1TYqbzw9zK",
        "colab_type": "text"
      },
      "source": [
        "## Defining Hyperparameters\n",
        "#### We will be applying a learning rate decay schedule, which is why we’ve named the learning rate variable INIT_LR."
      ]
    },
    {
      "cell_type": "code",
      "metadata": {
        "id": "1e9GCdKrwtia",
        "colab_type": "code",
        "colab": {}
      },
      "source": [
        "init_lr = 1e-4  # 0.0001\n",
        "epochs = 20\n",
        "bs = 32"
      ],
      "execution_count": 4,
      "outputs": []
    },
    {
      "cell_type": "markdown",
      "metadata": {
        "id": "N719Ipw-2NwU",
        "colab_type": "text"
      },
      "source": [
        "## Loading and pre-processing our training data"
      ]
    },
    {
      "cell_type": "code",
      "metadata": {
        "id": "wDryDXzTxQ4n",
        "colab_type": "code",
        "colab": {}
      },
      "source": [
        "imagePaths_mask = []\n",
        "imagePaths_nomask = []\n",
        "\n",
        "for filename in os.listdir(\"/content/drive/My Drive/Kaggle/Face Mask Detector/dataset/with_mask\"):\n",
        "  imagePaths_mask.append(filename)\n",
        "for filename in os.listdir(\"/content/drive/My Drive/Kaggle/Face Mask Detector/dataset/without_mask\"):\n",
        "  imagePaths_nomask.append(filename)\n"
      ],
      "execution_count": 5,
      "outputs": []
    },
    {
      "cell_type": "markdown",
      "metadata": {
        "id": "VF29rq8f6_gz",
        "colab_type": "text"
      },
      "source": [
        "**img_to_array()** - Keras provides the img_to_array() function for converting a loaded image in PIL format into a NumPy array for use with deep learning models.\n",
        "\n",
        "**preprocess_input** - Model specific. The preprocess_input function is meant to adequate your image to the format the model requires"
      ]
    },
    {
      "cell_type": "code",
      "metadata": {
        "id": "RacHpr_53TG3",
        "colab_type": "code",
        "colab": {}
      },
      "source": [
        "data = []\n",
        "labels = []\n",
        "\n",
        "for img in imagePaths_mask:\n",
        "\n",
        "  label = 'with_mask'\n",
        "\n",
        "  image = load_img(\"/content/drive/My Drive/Kaggle/Face Mask Detector/dataset/with_mask/\"+img, target_size=(224,224))\n",
        "  image = img_to_array(image)\n",
        "  image = preprocess_input(image)\n",
        "\n",
        "  data.append(image)\n",
        "  labels.append(label)\n",
        "\n",
        "for img in imagePaths_nomask:\n",
        "\n",
        "  label = 'without_mask'\n",
        "\n",
        "  image = load_img(\"/content/drive/My Drive/Kaggle/Face Mask Detector/dataset/without_mask/\"+img, target_size=(224,224))\n",
        "  image = img_to_array(image)\n",
        "  image = preprocess_input(image)\n",
        "\n",
        "  data.append(image)\n",
        "  labels.append(label)\n",
        "\n",
        "# convert the data and labels to NumPy arrays\n",
        "data = np.array(data, dtype=\"float32\")\n",
        "labels = np.array(labels)"
      ],
      "execution_count": 6,
      "outputs": []
    },
    {
      "cell_type": "markdown",
      "metadata": {
        "id": "-wg-h84K9dKK",
        "colab_type": "text"
      },
      "source": [
        "## Encoding our labels - one hot encoding\n",
        "\n",
        "**to_categorical** - Converts a class vector (integers) to binary class matrix.\n",
        "\n",
        "TEXT REPRESENTATION -> NUMBER REPRESENTATION -> ONE HOT ENCODING|"
      ]
    },
    {
      "cell_type": "code",
      "metadata": {
        "id": "-1Zkq1gf59BA",
        "colab_type": "code",
        "colab": {
          "base_uri": "https://localhost:8080/",
          "height": 289
        },
        "outputId": "19b5942d-9ec9-483a-ef52-7949790bb788"
      },
      "source": [
        "lb = LabelBinarizer()\n",
        "labels = lb.fit_transform(labels)\n",
        "print(\"Text categories in number form: \\n\",labels)\n",
        "labels = to_categorical(labels)\n",
        "print(\"One Hot Encoding: \\n\",labels)"
      ],
      "execution_count": 7,
      "outputs": [
        {
          "output_type": "stream",
          "text": [
            "Text categories in number form: \n",
            " [[0]\n",
            " [0]\n",
            " [0]\n",
            " ...\n",
            " [1]\n",
            " [1]\n",
            " [1]]\n",
            "One Hot Encoding: \n",
            " [[1. 0.]\n",
            " [1. 0.]\n",
            " [1. 0.]\n",
            " ...\n",
            " [0. 1.]\n",
            " [0. 1.]\n",
            " [0. 1.]]\n"
          ],
          "name": "stdout"
        }
      ]
    },
    {
      "cell_type": "code",
      "metadata": {
        "id": "HGzKHygl9I6b",
        "colab_type": "code",
        "colab": {
          "base_uri": "https://localhost:8080/",
          "height": 34
        },
        "outputId": "9b2f1fee-cab5-44cb-894c-09477c446c4b"
      },
      "source": [
        "labels.shape"
      ],
      "execution_count": 11,
      "outputs": [
        {
          "output_type": "execute_result",
          "data": {
            "text/plain": [
              "(1376, 2)"
            ]
          },
          "metadata": {
            "tags": []
          },
          "execution_count": 11
        }
      ]
    },
    {
      "cell_type": "markdown",
      "metadata": {
        "id": "BQTUecd_AIjx",
        "colab_type": "text"
      },
      "source": [
        "## Splitting Training and Testing Data\n",
        "\n",
        "**stratify** - This stratify parameter makes a split so that the proportion of values in the sample produced will be the same as the proportion of values provided to parameter stratify.\n",
        "\n",
        "For example, if variable y is a binary categorical variable with values 0 and 1 and there are 25% of zeros and 75% of ones, stratify=y will make sure that your random split has 25% of 0's and 75% of 1's.\n",
        "\n",
        "**random_state = 42** - For randomly selecting input data"
      ]
    },
    {
      "cell_type": "code",
      "metadata": {
        "id": "qS9mQJc_CWLy",
        "colab_type": "code",
        "colab": {
          "base_uri": "https://localhost:8080/",
          "height": 303
        },
        "outputId": "88bc3f0c-2e03-48c7-a592-a9aa28ef0e5e"
      },
      "source": [
        "plt.imshow(data[0])"
      ],
      "execution_count": 8,
      "outputs": [
        {
          "output_type": "stream",
          "text": [
            "Clipping input data to the valid range for imshow with RGB data ([0..1] for floats or [0..255] for integers).\n"
          ],
          "name": "stderr"
        },
        {
          "output_type": "execute_result",
          "data": {
            "text/plain": [
              "<matplotlib.image.AxesImage at 0x7f3090a7ad30>"
            ]
          },
          "metadata": {
            "tags": []
          },
          "execution_count": 8
        },
        {
          "output_type": "display_data",
          "data": {
            "image/png": "[encoded data removed]",
            "text/plain": [
              "<Figure size 432x288 with 1 Axes>"
            ]
          },
          "metadata": {
            "tags": [],
            "needs_background": "light"
          }
        }
      ]
    },
    {
      "cell_type": "code",
      "metadata": {
        "id": "2grFtfzTAMnI",
        "colab_type": "code",
        "colab": {}
      },
      "source": [
        "(train_x,test_x,train_y,test_y) = train_test_split(data, labels, test_size = 0.20, stratify = labels, random_state = 42)"
      ],
      "execution_count": 12,
      "outputs": []
    },
    {
      "cell_type": "markdown",
      "metadata": {
        "id": "aT7fyOYw_f4g",
        "colab_type": "text"
      },
      "source": [
        "## Initialising train_generator\n",
        "**fill_mode:** One of {\"constant\", \"nearest\", \"reflect\" or \"wrap\"}. Default is 'nearest'. Points outside the boundaries of the input are filled according to the given mode"
      ]
    },
    {
      "cell_type": "code",
      "metadata": {
        "id": "GfRLMo_kBxII",
        "colab_type": "code",
        "colab": {}
      },
      "source": [
        "train_generator = ImageDataGenerator(\n",
        "                    rotation_range = 20,\n",
        "                    zoom_range = 0.15,\n",
        "                    width_shift_range = 0.2,\n",
        "                    height_shift_range = 0.2,\n",
        "                    shear_range = 0.15,\n",
        "                    horizontal_flip = True,\n",
        "                    fill_mode=\"nearest\"\n",
        "                  )"
      ],
      "execution_count": 13,
      "outputs": []
    },
    {
      "cell_type": "markdown",
      "metadata": {
        "id": "DUJYhrQHAgdH",
        "colab_type": "text"
      },
      "source": [
        "## Using MobileNetV2 as the base model and Fine Tuning it"
      ]
    },
    {
      "cell_type": "markdown",
      "metadata": {
        "id": "_BrK5cJ6BbYd",
        "colab_type": "text"
      },
      "source": [
        "**input_tensor** - Keras tensor (i.e. output of layers.Input()) to use as image input for the model. input_tensor is useful for sharing inputs between multiple different networks. Default to None."
      ]
    },
    {
      "cell_type": "code",
      "metadata": {
        "id": "7LvRo4IP_rt0",
        "colab_type": "code",
        "colab": {
          "base_uri": "https://localhost:8080/",
          "height": 88
        },
        "outputId": "1e4e87b2-d020-46f4-c282-cf329fc46240"
      },
      "source": [
        "baseModel = MobileNetV2(input_tensor = tf.keras.layers.Input(shape = (224,224,3)),include_top = False, weights = 'imagenet')"
      ],
      "execution_count": 15,
      "outputs": [
        {
          "output_type": "stream",
          "text": [
            "WARNING:tensorflow:`input_shape` is undefined or non-square, or `rows` is not in [96, 128, 160, 192, 224]. Weights for input shape (224, 224) will be loaded as the default.\n",
            "Downloading data from https://storage.googleapis.com/tensorflow/keras-applications/mobilenet_v2/mobilenet_v2_weights_tf_dim_ordering_tf_kernels_1.0_224_no_top.h5\n",
            "9412608/9406464 [==============================] - 0s 0us/step\n"
          ],
          "name": "stdout"
        }
      ]
    },
    {
      "cell_type": "markdown",
      "metadata": {
        "id": "4jJf4erLDq_Y",
        "colab_type": "text"
      },
      "source": [
        "### Fine-tuning setup is a three-step process:\n",
        "\n",
        "1.   Load MobileNet with pre-trained ImageNet weights, leaving off head of network.\n",
        "2.   Construct a new FC head, and append it to the base in place of the old head.\n",
        "3.   Freeze the base layers of the network. The weights of these base layers will not be updated during the process of backpropagation, whereas the head layer weights will be tuned."
      ]
    },
    {
      "cell_type": "code",
      "metadata": {
        "id": "wqnDQl0MBoM9",
        "colab_type": "code",
        "colab": {
          "base_uri": "https://localhost:8080/",
          "height": 34
        },
        "outputId": "0b501630-8dd4-4903-b129-8093d95cf62c"
      },
      "source": [
        "baseModel"
      ],
      "execution_count": 16,
      "outputs": [
        {
          "output_type": "execute_result",
          "data": {
            "text/plain": [
              "<tensorflow.python.keras.engine.training.Model at 0x7f3026601240>"
            ]
          },
          "metadata": {
            "tags": []
          },
          "execution_count": 16
        }
      ]
    },
    {
      "cell_type": "code",
      "metadata": {
        "id": "R_Ky6PXvERYe",
        "colab_type": "code",
        "colab": {
          "base_uri": "https://localhost:8080/",
          "height": 34
        },
        "outputId": "12e164da-63d5-429a-d704-4e28e67b6d3f"
      },
      "source": [
        "baseModel.output          # tensor object to be used later in model making"
      ],
      "execution_count": 23,
      "outputs": [
        {
          "output_type": "execute_result",
          "data": {
            "text/plain": [
              "<tf.Tensor 'out_relu/Identity:0' shape=(None, 7, 7, 1280) dtype=float32>"
            ]
          },
          "metadata": {
            "tags": []
          },
          "execution_count": 23
        }
      ]
    },
    {
      "cell_type": "code",
      "metadata": {
        "id": "62E0N6C_EWfP",
        "colab_type": "code",
        "colab": {}
      },
      "source": [
        "headModel = baseModel.output              # headModel input is Basemodel's output\n",
        "headModel = tf.keras.layers.AveragePooling2D(pool_size = (7,7))(headModel)\n",
        "headModel = tf.keras.layers.Flatten()(headModel)\n",
        "headModel = tf.keras.layers.Dense(128, activation = 'relu')(headModel)\n",
        "headModel = tf.keras.layers.Dropout(0.5)(headModel)\n",
        "headModel = tf.keras.layers.Dense(2, activation = 'softmax')(headModel)"
      ],
      "execution_count": 28,
      "outputs": []
    },
    {
      "cell_type": "markdown",
      "metadata": {
        "id": "CNkV-Bi4HUf1",
        "colab_type": "text"
      },
      "source": [
        "## Defining the final model\n",
        "Input of the model is of the type of the input of baseModel. \n",
        "\n",
        "Output is as per headModel"
      ]
    },
    {
      "cell_type": "code",
      "metadata": {
        "id": "ZNU4aCTsGVE-",
        "colab_type": "code",
        "colab": {}
      },
      "source": [
        "model = tf.keras.models.Model(inputs = baseModel.input, outputs = headModel)"
      ],
      "execution_count": 30,
      "outputs": []
    },
    {
      "cell_type": "markdown",
      "metadata": {
        "id": "3llwZqZALd7_",
        "colab_type": "text"
      },
      "source": [
        "## Freezing Base Model's layers to prevent them from training\n",
        "\n",
        "Model's Trainable parameter as False."
      ]
    },
    {
      "cell_type": "code",
      "metadata": {
        "id": "M3lIpiY7Honx",
        "colab_type": "code",
        "colab": {
          "base_uri": "https://localhost:8080/",
          "height": 1000
        },
        "outputId": "fcc485c0-3124-4950-be53-0fc6d530a074"
      },
      "source": [
        "baseModel.layers"
      ],
      "execution_count": 31,
      "outputs": [
        {
          "output_type": "execute_result",
          "data": {
            "text/plain": [
              "[<tensorflow.python.keras.engine.input_layer.InputLayer at 0x7f308fb39ef0>,\n",
              " <tensorflow.python.keras.layers.convolutional.ZeroPadding2D at 0x7f308fade9b0>,\n",
              " <tensorflow.python.keras.layers.convolutional.Conv2D at 0x7f308fa87ef0>,\n",
              " <tensorflow.python.keras.layers.normalization_v2.BatchNormalization at 0x7f308fca1710>,\n",
              " <tensorflow.python.keras.layers.advanced_activations.ReLU at 0x7f308f9d6fd0>,\n",
              " <tensorflow.python.keras.layers.convolutional.DepthwiseConv2D at 0x7f308fa42b00>,\n",
              " <tensorflow.python.keras.layers.normalization_v2.BatchNormalization at 0x7f308fade358>,\n",
              " <tensorflow.python.keras.layers.advanced_activations.ReLU at 0x7f30800eda90>,\n",
              " <tensorflow.python.keras.layers.convolutional.Conv2D at 0x7f30800ed4a8>,\n",
              " <tensorflow.python.keras.layers.normalization_v2.BatchNormalization at 0x7f3080116d68>,\n",
              " <tensorflow.python.keras.layers.convolutional.Conv2D at 0x7f30801204a8>,\n",
              " <tensorflow.python.keras.layers.normalization_v2.BatchNormalization at 0x7f30800c69b0>,\n",
              " <tensorflow.python.keras.layers.advanced_activations.ReLU at 0x7f30800ce518>,\n",
              " <tensorflow.python.keras.layers.convolutional.ZeroPadding2D at 0x7f30800ce048>,\n",
              " <tensorflow.python.keras.layers.convolutional.DepthwiseConv2D at 0x7f3080071860>,\n",
              " <tensorflow.python.keras.layers.normalization_v2.BatchNormalization at 0x7f308007a588>,\n",
              " <tensorflow.python.keras.layers.advanced_activations.ReLU at 0x7f308007afd0>,\n",
              " <tensorflow.python.keras.layers.convolutional.Conv2D at 0x7f308007ae48>,\n",
              " <tensorflow.python.keras.layers.normalization_v2.BatchNormalization at 0x7f30800a4278>,\n",
              " <tensorflow.python.keras.layers.convolutional.Conv2D at 0x7f30800a49e8>,\n",
              " <tensorflow.python.keras.layers.normalization_v2.BatchNormalization at 0x7f30800510b8>,\n",
              " <tensorflow.python.keras.layers.advanced_activations.ReLU at 0x7f3080051a20>,\n",
              " <tensorflow.python.keras.layers.convolutional.DepthwiseConv2D at 0x7f3080051630>,\n",
              " <tensorflow.python.keras.layers.normalization_v2.BatchNormalization at 0x7f303262f518>,\n",
              " <tensorflow.python.keras.layers.advanced_activations.ReLU at 0x7f303262ff60>,\n",
              " <tensorflow.python.keras.layers.convolutional.Conv2D at 0x7f303262fdd8>,\n",
              " <tensorflow.python.keras.layers.normalization_v2.BatchNormalization at 0x7f30325e0208>,\n",
              " <tensorflow.python.keras.layers.merge.Add at 0x7f30325e0978>,\n",
              " <tensorflow.python.keras.layers.convolutional.Conv2D at 0x7f30325e09b0>,\n",
              " <tensorflow.python.keras.layers.normalization_v2.BatchNormalization at 0x7f303260b358>,\n",
              " <tensorflow.python.keras.layers.advanced_activations.ReLU at 0x7f303260be48>,\n",
              " <tensorflow.python.keras.layers.convolutional.ZeroPadding2D at 0x7f303260ba58>,\n",
              " <tensorflow.python.keras.layers.convolutional.DepthwiseConv2D at 0x7f30325bc208>,\n",
              " <tensorflow.python.keras.layers.normalization_v2.BatchNormalization at 0x7f30325bccc0>,\n",
              " <tensorflow.python.keras.layers.advanced_activations.ReLU at 0x7f30325c2940>,\n",
              " <tensorflow.python.keras.layers.convolutional.Conv2D at 0x7f30325c22e8>,\n",
              " <tensorflow.python.keras.layers.normalization_v2.BatchNormalization at 0x7f3032569c50>,\n",
              " <tensorflow.python.keras.layers.convolutional.Conv2D at 0x7f303256e390>,\n",
              " <tensorflow.python.keras.layers.normalization_v2.BatchNormalization at 0x7f3032594898>,\n",
              " <tensorflow.python.keras.layers.advanced_activations.ReLU at 0x7f3032594f60>,\n",
              " <tensorflow.python.keras.layers.convolutional.DepthwiseConv2D at 0x7f303251d198>,\n",
              " <tensorflow.python.keras.layers.normalization_v2.BatchNormalization at 0x7f3032542c88>,\n",
              " <tensorflow.python.keras.layers.advanced_activations.ReLU at 0x7f3032542f98>,\n",
              " <tensorflow.python.keras.layers.convolutional.Conv2D at 0x7f3032548668>,\n",
              " <tensorflow.python.keras.layers.normalization_v2.BatchNormalization at 0x7f30324efbe0>,\n",
              " <tensorflow.python.keras.layers.merge.Add at 0x7f30324f5320>,\n",
              " <tensorflow.python.keras.layers.convolutional.Conv2D at 0x7f30324f5358>,\n",
              " <tensorflow.python.keras.layers.normalization_v2.BatchNormalization at 0x7f303249ccf8>,\n",
              " <tensorflow.python.keras.layers.advanced_activations.ReLU at 0x7f30324a07f0>,\n",
              " <tensorflow.python.keras.layers.convolutional.DepthwiseConv2D at 0x7f30324a0400>,\n",
              " <tensorflow.python.keras.layers.normalization_v2.BatchNormalization at 0x7f30324d12e8>,\n",
              " <tensorflow.python.keras.layers.advanced_activations.ReLU at 0x7f30324d1d30>,\n",
              " <tensorflow.python.keras.layers.convolutional.Conv2D at 0x7f30324d1ba8>,\n",
              " <tensorflow.python.keras.layers.normalization_v2.BatchNormalization at 0x7f303247b0f0>,\n",
              " <tensorflow.python.keras.layers.merge.Add at 0x7f303247b748>,\n",
              " <tensorflow.python.keras.layers.convolutional.Conv2D at 0x7f303247b780>,\n",
              " <tensorflow.python.keras.layers.normalization_v2.BatchNormalization at 0x7f303242d128>,\n",
              " <tensorflow.python.keras.layers.advanced_activations.ReLU at 0x7f303242dc18>,\n",
              " <tensorflow.python.keras.layers.convolutional.ZeroPadding2D at 0x7f303242d5f8>,\n",
              " <tensorflow.python.keras.layers.convolutional.DepthwiseConv2D at 0x7f30324584a8>,\n",
              " <tensorflow.python.keras.layers.normalization_v2.BatchNormalization at 0x7f3032458a90>,\n",
              " <tensorflow.python.keras.layers.advanced_activations.ReLU at 0x7f3032458dd8>,\n",
              " <tensorflow.python.keras.layers.convolutional.Conv2D at 0x7f30323e1588>,\n",
              " <tensorflow.python.keras.layers.normalization_v2.BatchNormalization at 0x7f303240b9b0>,\n",
              " <tensorflow.python.keras.layers.convolutional.Conv2D at 0x7f303240e588>,\n",
              " <tensorflow.python.keras.layers.normalization_v2.BatchNormalization at 0x7f30323b56a0>,\n",
              " <tensorflow.python.keras.layers.advanced_activations.ReLU at 0x7f30323b5ef0>,\n",
              " <tensorflow.python.keras.layers.convolutional.DepthwiseConv2D at 0x7f30323bd1d0>,\n",
              " <tensorflow.python.keras.layers.normalization_v2.BatchNormalization at 0x7f3032363a58>,\n",
              " <tensorflow.python.keras.layers.advanced_activations.ReLU at 0x7f3032363d68>,\n",
              " <tensorflow.python.keras.layers.convolutional.Conv2D at 0x7f303236a518>,\n",
              " <tensorflow.python.keras.layers.normalization_v2.BatchNormalization at 0x7f303238e940>,\n",
              " <tensorflow.python.keras.layers.merge.Add at 0x7f3032395518>,\n",
              " <tensorflow.python.keras.layers.convolutional.Conv2D at 0x7f3032395208>,\n",
              " <tensorflow.python.keras.layers.normalization_v2.BatchNormalization at 0x7f303233da90>,\n",
              " <tensorflow.python.keras.layers.advanced_activations.ReLU at 0x7f30323415c0>,\n",
              " <tensorflow.python.keras.layers.convolutional.DepthwiseConv2D at 0x7f30323412b0>,\n",
              " <tensorflow.python.keras.layers.normalization_v2.BatchNormalization at 0x7f30322ed978>,\n",
              " <tensorflow.python.keras.layers.advanced_activations.ReLU at 0x7f30322f1b00>,\n",
              " <tensorflow.python.keras.layers.convolutional.Conv2D at 0x7f30322f1978>,\n",
              " <tensorflow.python.keras.layers.normalization_v2.BatchNormalization at 0x7f3032318dd8>,\n",
              " <tensorflow.python.keras.layers.merge.Add at 0x7f303229f518>,\n",
              " <tensorflow.python.keras.layers.convolutional.Conv2D at 0x7f303229f550>,\n",
              " <tensorflow.python.keras.layers.normalization_v2.BatchNormalization at 0x7f30322c6ef0>,\n",
              " <tensorflow.python.keras.layers.advanced_activations.ReLU at 0x7f30322ce9e8>,\n",
              " <tensorflow.python.keras.layers.convolutional.DepthwiseConv2D at 0x7f30322ce5f8>,\n",
              " <tensorflow.python.keras.layers.normalization_v2.BatchNormalization at 0x7f303227a4e0>,\n",
              " <tensorflow.python.keras.layers.advanced_activations.ReLU at 0x7f303227af28>,\n",
              " <tensorflow.python.keras.layers.convolutional.Conv2D at 0x7f303227ada0>,\n",
              " <tensorflow.python.keras.layers.normalization_v2.BatchNormalization at 0x7f30322281d0>,\n",
              " <tensorflow.python.keras.layers.merge.Add at 0x7f3032228940>,\n",
              " <tensorflow.python.keras.layers.convolutional.Conv2D at 0x7f3032228978>,\n",
              " <tensorflow.python.keras.layers.normalization_v2.BatchNormalization at 0x7f3032256320>,\n",
              " <tensorflow.python.keras.layers.advanced_activations.ReLU at 0x7f3032256e10>,\n",
              " <tensorflow.python.keras.layers.convolutional.DepthwiseConv2D at 0x7f3032256a20>,\n",
              " <tensorflow.python.keras.layers.normalization_v2.BatchNormalization at 0x7f3032203748>,\n",
              " <tensorflow.python.keras.layers.advanced_activations.ReLU at 0x7f3032203ef0>,\n",
              " <tensorflow.python.keras.layers.convolutional.Conv2D at 0x7f30321a9c18>,\n",
              " <tensorflow.python.keras.layers.normalization_v2.BatchNormalization at 0x7f30321b1438>,\n",
              " <tensorflow.python.keras.layers.convolutional.Conv2D at 0x7f30321b1d68>,\n",
              " <tensorflow.python.keras.layers.normalization_v2.BatchNormalization at 0x7f30321602e8>,\n",
              " <tensorflow.python.keras.layers.advanced_activations.ReLU at 0x7f3032160c50>,\n",
              " <tensorflow.python.keras.layers.convolutional.DepthwiseConv2D at 0x7f3032160860>,\n",
              " <tensorflow.python.keras.layers.normalization_v2.BatchNormalization at 0x7f303218c5c0>,\n",
              " <tensorflow.python.keras.layers.advanced_activations.ReLU at 0x7f303218cda0>,\n",
              " <tensorflow.python.keras.layers.convolutional.Conv2D at 0x7f3032131d30>,\n",
              " <tensorflow.python.keras.layers.normalization_v2.BatchNormalization at 0x7f303213a4e0>,\n",
              " <tensorflow.python.keras.layers.merge.Add at 0x7f303213acc0>,\n",
              " <tensorflow.python.keras.layers.convolutional.Conv2D at 0x7f30321400f0>,\n",
              " <tensorflow.python.keras.layers.normalization_v2.BatchNormalization at 0x7f30320e86a0>,\n",
              " <tensorflow.python.keras.layers.advanced_activations.ReLU at 0x7f30320e8f28>,\n",
              " <tensorflow.python.keras.layers.convolutional.DepthwiseConv2D at 0x7f30320eb208>,\n",
              " <tensorflow.python.keras.layers.normalization_v2.BatchNormalization at 0x7f3032116ac8>,\n",
              " <tensorflow.python.keras.layers.advanced_activations.ReLU at 0x7f3032116dd8>,\n",
              " <tensorflow.python.keras.layers.convolutional.Conv2D at 0x7f303209d588>,\n",
              " <tensorflow.python.keras.layers.normalization_v2.BatchNormalization at 0x7f30320c19e8>,\n",
              " <tensorflow.python.keras.layers.merge.Add at 0x7f30320c8198>,\n",
              " <tensorflow.python.keras.layers.convolutional.Conv2D at 0x7f30320c81d0>,\n",
              " <tensorflow.python.keras.layers.normalization_v2.BatchNormalization at 0x7f3032070be0>,\n",
              " <tensorflow.python.keras.layers.advanced_activations.ReLU at 0x7f30320776d8>,\n",
              " <tensorflow.python.keras.layers.convolutional.ZeroPadding2D at 0x7f30320770b8>,\n",
              " <tensorflow.python.keras.layers.convolutional.DepthwiseConv2D at 0x7f303201ca90>,\n",
              " <tensorflow.python.keras.layers.normalization_v2.BatchNormalization at 0x7f30320257f0>,\n",
              " <tensorflow.python.keras.layers.advanced_activations.ReLU at 0x7f3032025da0>,\n",
              " <tensorflow.python.keras.layers.convolutional.Conv2D at 0x7f303204ad30>,\n",
              " <tensorflow.python.keras.layers.normalization_v2.BatchNormalization at 0x7f30320534e0>,\n",
              " <tensorflow.python.keras.layers.convolutional.Conv2D at 0x7f3032053cc0>,\n",
              " <tensorflow.python.keras.layers.normalization_v2.BatchNormalization at 0x7f30267e4208>,\n",
              " <tensorflow.python.keras.layers.advanced_activations.ReLU at 0x7f30267e4d30>,\n",
              " <tensorflow.python.keras.layers.convolutional.DepthwiseConv2D at 0x7f30267e49b0>,\n",
              " <tensorflow.python.keras.layers.normalization_v2.BatchNormalization at 0x7f3026791668>,\n",
              " <tensorflow.python.keras.layers.advanced_activations.ReLU at 0x7f3026791a20>,\n",
              " <tensorflow.python.keras.layers.convolutional.Conv2D at 0x7f30267b4b00>,\n",
              " <tensorflow.python.keras.layers.normalization_v2.BatchNormalization at 0x7f302673f588>,\n",
              " <tensorflow.python.keras.layers.merge.Add at 0x7f302673fd68>,\n",
              " <tensorflow.python.keras.layers.convolutional.Conv2D at 0x7f3026744198>,\n",
              " <tensorflow.python.keras.layers.normalization_v2.BatchNormalization at 0x7f302676a748>,\n",
              " <tensorflow.python.keras.layers.advanced_activations.ReLU at 0x7f302676af28>,\n",
              " <tensorflow.python.keras.layers.convolutional.DepthwiseConv2D at 0x7f30267702b0>,\n",
              " <tensorflow.python.keras.layers.normalization_v2.BatchNormalization at 0x7f3026719b70>,\n",
              " <tensorflow.python.keras.layers.advanced_activations.ReLU at 0x7f3026719e80>,\n",
              " <tensorflow.python.keras.layers.convolutional.Conv2D at 0x7f302671e588>,\n",
              " <tensorflow.python.keras.layers.normalization_v2.BatchNormalization at 0x7f30266c6a90>,\n",
              " <tensorflow.python.keras.layers.merge.Add at 0x7f30266cb240>,\n",
              " <tensorflow.python.keras.layers.convolutional.Conv2D at 0x7f30266cb278>,\n",
              " <tensorflow.python.keras.layers.normalization_v2.BatchNormalization at 0x7f30266f2c88>,\n",
              " <tensorflow.python.keras.layers.advanced_activations.ReLU at 0x7f30266fb780>,\n",
              " <tensorflow.python.keras.layers.convolutional.DepthwiseConv2D at 0x7f30266fb390>,\n",
              " <tensorflow.python.keras.layers.normalization_v2.BatchNormalization at 0x7f30266a52b0>,\n",
              " <tensorflow.python.keras.layers.advanced_activations.ReLU at 0x7f30266a5cf8>,\n",
              " <tensorflow.python.keras.layers.convolutional.Conv2D at 0x7f30266a5b70>,\n",
              " <tensorflow.python.keras.layers.normalization_v2.BatchNormalization at 0x7f30266560f0>,\n",
              " <tensorflow.python.keras.layers.convolutional.Conv2D at 0x7f3026656748>,\n",
              " <tensorflow.python.keras.layers.normalization_v2.BatchNormalization at 0x7f30265feef0>,\n",
              " <tensorflow.python.keras.layers.advanced_activations.ReLU at 0x7f3026601828>]"
            ]
          },
          "metadata": {
            "tags": []
          },
          "execution_count": 31
        }
      ]
    },
    {
      "cell_type": "code",
      "metadata": {
        "id": "mAKFCQV7LSnQ",
        "colab_type": "code",
        "colab": {}
      },
      "source": [
        "for layers in baseModel.layers:\n",
        "  baseModel.trainable = False"
      ],
      "execution_count": 32,
      "outputs": []
    },
    {
      "cell_type": "markdown",
      "metadata": {
        "id": "QYLnKlr0Nfoo",
        "colab_type": "text"
      },
      "source": [
        "## Let's Compile the model"
      ]
    },
    {
      "cell_type": "code",
      "metadata": {
        "id": "OGfdgiTOMFah",
        "colab_type": "code",
        "colab": {}
      },
      "source": [
        "opt = Adam(lr = init_lr, decay = init_lr/epochs)\n",
        "model.compile(optimizer=opt, loss = 'binary_crossentropy',metrics = ['accuracy'])"
      ],
      "execution_count": 33,
      "outputs": []
    },
    {
      "cell_type": "markdown",
      "metadata": {
        "id": "c1Hk-4V-ORc_",
        "colab_type": "text"
      },
      "source": [
        "## Fitting the model"
      ]
    },
    {
      "cell_type": "code",
      "metadata": {
        "id": "aEO21vXKOO8F",
        "colab_type": "code",
        "colab": {
          "base_uri": "https://localhost:8080/",
          "height": 717
        },
        "outputId": "0b4610eb-0f07-454a-87e3-40c8486f9528"
      },
      "source": [
        "history = model.fit(train_generator.flow(train_x,train_y,batch_size=bs),\n",
        "                    steps_per_epoch = len(train_x)//bs,\n",
        "                    validation_data = (test_x,test_y),\n",
        "                    validation_steps = len(test_x)//bs,\n",
        "                    epochs = epochs,\n",
        "                    verbose = 1\n",
        "                    )"
      ],
      "execution_count": 35,
      "outputs": [
        {
          "output_type": "stream",
          "text": [
            "Epoch 1/20\n",
            "34/34 [==============================] - 13s 368ms/step - loss: 0.3811 - accuracy: 0.8235 - val_loss: 0.1027 - val_accuracy: 0.9928\n",
            "Epoch 2/20\n",
            "34/34 [==============================] - 11s 334ms/step - loss: 0.1197 - accuracy: 0.9719 - val_loss: 0.0433 - val_accuracy: 0.9928\n",
            "Epoch 3/20\n",
            "34/34 [==============================] - 11s 324ms/step - loss: 0.0695 - accuracy: 0.9822 - val_loss: 0.0293 - val_accuracy: 0.9928\n",
            "Epoch 4/20\n",
            "34/34 [==============================] - 11s 324ms/step - loss: 0.0558 - accuracy: 0.9822 - val_loss: 0.0239 - val_accuracy: 0.9964\n",
            "Epoch 5/20\n",
            "34/34 [==============================] - 11s 325ms/step - loss: 0.0476 - accuracy: 0.9869 - val_loss: 0.0210 - val_accuracy: 0.9964\n",
            "Epoch 6/20\n",
            "34/34 [==============================] - 11s 325ms/step - loss: 0.0266 - accuracy: 0.9981 - val_loss: 0.0187 - val_accuracy: 0.9964\n",
            "Epoch 7/20\n",
            "34/34 [==============================] - 11s 327ms/step - loss: 0.0251 - accuracy: 0.9934 - val_loss: 0.0177 - val_accuracy: 0.9928\n",
            "Epoch 8/20\n",
            "34/34 [==============================] - 11s 323ms/step - loss: 0.0194 - accuracy: 0.9963 - val_loss: 0.0167 - val_accuracy: 0.9928\n",
            "Epoch 9/20\n",
            "34/34 [==============================] - 11s 328ms/step - loss: 0.0258 - accuracy: 0.9888 - val_loss: 0.0153 - val_accuracy: 0.9964\n",
            "Epoch 10/20\n",
            "34/34 [==============================] - 11s 325ms/step - loss: 0.0302 - accuracy: 0.9878 - val_loss: 0.0170 - val_accuracy: 0.9928\n",
            "Epoch 11/20\n",
            "34/34 [==============================] - 11s 326ms/step - loss: 0.0239 - accuracy: 0.9953 - val_loss: 0.0152 - val_accuracy: 0.9964\n",
            "Epoch 12/20\n",
            "34/34 [==============================] - 11s 326ms/step - loss: 0.0155 - accuracy: 0.9963 - val_loss: 0.0146 - val_accuracy: 0.9964\n",
            "Epoch 13/20\n",
            "34/34 [==============================] - 11s 322ms/step - loss: 0.0142 - accuracy: 0.9953 - val_loss: 0.0145 - val_accuracy: 0.9964\n",
            "Epoch 14/20\n",
            "34/34 [==============================] - 11s 324ms/step - loss: 0.0094 - accuracy: 0.9981 - val_loss: 0.0142 - val_accuracy: 0.9964\n",
            "Epoch 15/20\n",
            "34/34 [==============================] - 11s 323ms/step - loss: 0.0194 - accuracy: 0.9944 - val_loss: 0.0136 - val_accuracy: 0.9964\n",
            "Epoch 16/20\n",
            "34/34 [==============================] - 11s 329ms/step - loss: 0.0169 - accuracy: 0.9934 - val_loss: 0.0159 - val_accuracy: 0.9964\n",
            "Epoch 17/20\n",
            "34/34 [==============================] - 11s 320ms/step - loss: 0.0111 - accuracy: 0.9972 - val_loss: 0.0153 - val_accuracy: 0.9964\n",
            "Epoch 18/20\n",
            "34/34 [==============================] - 11s 321ms/step - loss: 0.0076 - accuracy: 0.9991 - val_loss: 0.0127 - val_accuracy: 0.9964\n",
            "Epoch 19/20\n",
            "34/34 [==============================] - 11s 321ms/step - loss: 0.0079 - accuracy: 0.9981 - val_loss: 0.0141 - val_accuracy: 0.9964\n",
            "Epoch 20/20\n",
            "34/34 [==============================] - 11s 320ms/step - loss: 0.0148 - accuracy: 0.9953 - val_loss: 0.0123 - val_accuracy: 0.9964\n"
          ],
          "name": "stdout"
        }
      ]
    },
    {
      "cell_type": "markdown",
      "metadata": {
        "id": "5_MI8ldpRPPG",
        "colab_type": "text"
      },
      "source": [
        "## Saving our model"
      ]
    },
    {
      "cell_type": "code",
      "metadata": {
        "id": "SJsqcXx1QT_4",
        "colab_type": "code",
        "colab": {
          "base_uri": "https://localhost:8080/",
          "height": 34
        },
        "outputId": "94cec773-426d-411c-c26f-0f93166defda"
      },
      "source": [
        "model.save(\"/content/drive/My Drive/Kaggle/Face Mask Detector/\")  # as .pb"
      ],
      "execution_count": 42,
      "outputs": [
        {
          "output_type": "stream",
          "text": [
            "INFO:tensorflow:Assets written to: /content/drive/My Drive/Kaggle/Face Mask Detector/My_Model.pb/assets\n"
          ],
          "name": "stdout"
        }
      ]
    },
    {
      "cell_type": "code",
      "metadata": {
        "id": "1UORLirmRnD-",
        "colab_type": "code",
        "colab": {}
      },
      "source": [
        "model.save(\"/content/drive/My Drive/Kaggle/Face Mask Detector/My_Model.h5\")  # as .h5"
      ],
      "execution_count": 43,
      "outputs": []
    },
    {
      "cell_type": "markdown",
      "metadata": {
        "id": "t1YHCOckUc5F",
        "colab_type": "text"
      },
      "source": [
        "## Plotting our performance"
      ]
    },
    {
      "cell_type": "code",
      "metadata": {
        "id": "46aIVUvXT8Dp",
        "colab_type": "code",
        "colab": {
          "base_uri": "https://localhost:8080/",
          "height": 545
        },
        "outputId": "a8dafe60-4f66-4895-da68-8bb8a35279bd"
      },
      "source": [
        "acc = history.history['accuracy']\n",
        "val_acc = history.history['val_accuracy']\n",
        "loss = history.history['loss']\n",
        "val_loss = history.history['val_loss']\n",
        "\n",
        "epochs = range(len(acc))\n",
        "\n",
        "plt.plot(epochs, acc, 'b', label='Training accuracy')\n",
        "plt.plot(epochs, val_acc, 'r', label='Validation accuracy')\n",
        "plt.title('Training and validation accuracy')\n",
        "plt.legend()\n",
        "\n",
        "plt.figure()\n",
        "\n",
        "plt.plot(epochs, loss, 'b', label='Training Loss')\n",
        "plt.plot(epochs, val_loss, 'r', label='Validation Loss')\n",
        "plt.title('Training and validation loss')\n",
        "plt.legend()\n",
        "\n",
        "plt.show()"
      ],
      "execution_count": 45,
      "outputs": [
        {
          "output_type": "display_data",
          "data": {
            "image/png": "[encoded data removed]",
            "text/plain": [
              "<Figure size 432x288 with 1 Axes>"
            ]
          },
          "metadata": {
            "tags": [],
            "needs_background": "light"
          }
        },
        {
          "output_type": "display_data",
          "data": {
            "image/png": "[encoded data removed]",
            "text/plain": [
              "<Figure size 432x288 with 1 Axes>"
            ]
          },
          "metadata": {
            "tags": [],
            "needs_background": "light"
          }
        }
      ]
    },
    {
      "cell_type": "code",
      "metadata": {
        "id": "WWB-i26DUmLZ",
        "colab_type": "code",
        "colab": {}
      },
      "source": [
        ""
      ],
      "execution_count": null,
      "outputs": []
    }
  ]
}