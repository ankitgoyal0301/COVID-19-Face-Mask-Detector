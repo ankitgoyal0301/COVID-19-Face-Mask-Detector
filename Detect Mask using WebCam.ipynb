{
 "cells": [
  {
   "cell_type": "code",
   "execution_count": 2,
   "metadata": {},
   "outputs": [
    {
     "name": "stderr",
     "output_type": "stream",
     "text": [
      "Using TensorFlow backend.\n"
     ]
    },
    {
     "name": "stdout",
     "output_type": "stream",
     "text": [
      "2.2.0\n"
     ]
    }
   ],
   "source": [
    "import tensorflow as tf\n",
    "import keras\n",
    "from tensorflow.keras.applications.mobilenet_v2 import preprocess_input\n",
    "from tensorflow.keras.preprocessing.image import img_to_array\n",
    "from tensorflow.keras.preprocessing.image import load_img\n",
    "import numpy as np\n",
    "import argparse\n",
    "import cv2\n",
    "import os\n",
    "import time\n",
    "import matplotlib.pyplot as plt\n",
    "%matplotlib inline\n",
    "print(tf.__version__)"
   ]
  },
  {
   "cell_type": "markdown",
   "metadata": {},
   "source": [
    "## Load Model"
   ]
  },
  {
   "cell_type": "code",
   "execution_count": 3,
   "metadata": {},
   "outputs": [],
   "source": [
    "model = tf.keras.models.load_model(\"Models/My_Model.h5\")"
   ]
  },
  {
   "cell_type": "markdown",
   "metadata": {},
   "source": [
    "## Loading face detection classifier"
   ]
  },
  {
   "cell_type": "code",
   "execution_count": 4,
   "metadata": {},
   "outputs": [],
   "source": [
    "face_cascade = cv2.CascadeClassifier('haarcascade_frontalface_default.xml')"
   ]
  },
  {
   "cell_type": "code",
   "execution_count": 5,
   "metadata": {},
   "outputs": [],
   "source": [
    "cap = cv2.VideoCapture(\"examples/Mask Detection Test Video.mp4\")\n",
    "\n",
    "width = int(cap.get(cv2.CAP_PROP_FRAME_WIDTH))\n",
    "height = int(cap.get(cv2.CAP_PROP_FRAME_HEIGHT))\n",
    "\n",
    "writer = cv2.VideoWriter(\"Mask-Detection-Video-Output.mp4\",cv2.VideoWriter_fourcc(*'DIVX'),25,(width,height))\n",
    "\n",
    "while True:\n",
    "    \n",
    "    ret, img = cap.read()\n",
    "    \n",
    "    if ret == True:\n",
    "        time.sleep(1/25)\n",
    "\n",
    "        gray = cv2.cvtColor(img, cv2.COLOR_RGB2GRAY)\n",
    "        faces = face_cascade.detectMultiScale(gray, 1.3, 8)\n",
    "\n",
    "        for (x, y, w, h) in faces:\n",
    "\n",
    "            face = img[y:y+h, x:x+w]\n",
    "            face = cv2.resize(face, (224, 224))\n",
    "            face = img_to_array(face)\n",
    "            face = preprocess_input(face)\n",
    "            face = np.expand_dims(face, axis=0)\n",
    "            (mask, withoutMask) = model.predict(face)[0]\n",
    "            mask = mask*100\n",
    "            withoutMask = withoutMask*100\n",
    "\n",
    "            font = cv2.FONT_HERSHEY_SIMPLEX\n",
    "\n",
    "            # Getting Text Size in pixel\n",
    "            # print(\"Image Width: \" , w)\n",
    "            textSize = cv2.getTextSize(text=\"No Mask: \" + str(\"%.2f\" % round(mask, 2)), fontFace=cv2.FONT_HERSHEY_SIMPLEX, fontScale=1, thickness=3)\n",
    "            # print(\"Text Width: \" , textSize[0][0])\n",
    "\n",
    "            if mask > withoutMask:\n",
    "                cv2.putText(img,\n",
    "                            text = \"Mask: \" + str(\"%.2f\" % round(mask, 2)),\n",
    "                            org = (x-5,y-20),\n",
    "                            fontFace=font,\n",
    "                            fontScale = (2*w)/textSize[0][0],\n",
    "                            color = (0, 255, 0),\n",
    "                            thickness = 3,\n",
    "                            lineType = cv2.LINE_AA)\n",
    "                cv2.rectangle(img, (x, y), (x+w, y+h), (0,255,0), 5)\n",
    "            else:\n",
    "                cv2.putText(img,\n",
    "                            text = \"No Mask: \" + str(\"%.2f\" % round(withoutMask, 2)),\n",
    "                            org = (x-5,y-20),\n",
    "                            fontFace=font,\n",
    "                            fontScale = (1.8*w)/textSize[0][0],\n",
    "                            color = (0, 0, 255),\n",
    "                            thickness = 3,\n",
    "                            lineType = cv2.LINE_AA)\n",
    "                cv2.rectangle(img, (x, y), (x+w, y+h), (0, 0, 255), 5)\n",
    "        \n",
    "        # Storing Recorded File\n",
    "        writer.write(img)\n",
    "        \n",
    "        # Display    \n",
    "        cv2.imshow(\"Face Mask Detection\",img)\n",
    "\n",
    "        if cv2.waitKey(1) & 0XFF == ord('q'):\n",
    "            break\n",
    "    else:\n",
    "        break\n",
    "        \n",
    "cap.release()\n",
    "cv2.destroyAllWindows()"
   ]
  },
  {
   "cell_type": "code",
   "execution_count": null,
   "metadata": {},
   "outputs": [],
   "source": []
  },
  {
   "cell_type": "code",
   "execution_count": null,
   "metadata": {},
   "outputs": [],
   "source": []
  }
 ],
 "metadata": {
  "kernelspec": {
   "display_name": "Python 3",
   "language": "python",
   "name": "python3"
  },
  "language_info": {
   "codemirror_mode": {
    "name": "ipython",
    "version": 3
   },
   "file_extension": ".py",
   "mimetype": "text/x-python",
   "name": "python",
   "nbconvert_exporter": "python",
   "pygments_lexer": "ipython3",
   "version": "3.6.10"
  }
 },
 "nbformat": 4,
 "nbformat_minor": 4
}
